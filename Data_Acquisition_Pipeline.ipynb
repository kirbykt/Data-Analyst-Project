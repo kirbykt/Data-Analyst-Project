{
 "cells": [
  {
   "cell_type": "code",
   "execution_count": 18,
   "id": "fca0d7cc-31a8-4454-9547-7fb81f8b2a6b",
   "metadata": {},
   "outputs": [],
   "source": [
    "#Step 1: Import necessary library\n",
    "import pandas as pd\n",
    "import matplotlib.pyplot as plt\n",
    "import seaborn as sns\n",
    "\n",
    "#Cleaner visuals\n",
    "sns.set(style=\"whitegrid\")"
   ]
  },
  {
   "cell_type": "code",
   "execution_count": 19,
   "id": "982917de-a6bb-4e8b-b28f-92c930c1957c",
   "metadata": {},
   "outputs": [],
   "source": [
    "#Step 2: Load the CSV responses from Google Forms\n",
    "product_df = pd.read_csv(\"Product_Survey_Responses.csv\")\n",
    "service_df = pd.read_csv(\"Service_Survey_Responses.csv\")"
   ]
  },
  {
   "cell_type": "code",
   "execution_count": 20,
   "id": "d45c5cf1-796c-49d1-a493-56b564ff9d4a",
   "metadata": {},
   "outputs": [
    {
     "name": "stdout",
     "output_type": "stream",
     "text": [
      "Product Survey Sample:\n"
     ]
    },
    {
     "data": {
      "text/html": [
       "<div>\n",
       "<style scoped>\n",
       "    .dataframe tbody tr th:only-of-type {\n",
       "        vertical-align: middle;\n",
       "    }\n",
       "\n",
       "    .dataframe tbody tr th {\n",
       "        vertical-align: top;\n",
       "    }\n",
       "\n",
       "    .dataframe thead th {\n",
       "        text-align: right;\n",
       "    }\n",
       "</style>\n",
       "<table border=\"1\" class=\"dataframe\">\n",
       "  <thead>\n",
       "    <tr style=\"text-align: right;\">\n",
       "      <th></th>\n",
       "      <th>Timestamp</th>\n",
       "      <th>Full Name</th>\n",
       "      <th>Email Address</th>\n",
       "      <th>Product Purchased</th>\n",
       "      <th>Overall Satisfaction</th>\n",
       "      <th>Would you recommend us to a friend?</th>\n",
       "      <th>Any additional comments?</th>\n",
       "    </tr>\n",
       "  </thead>\n",
       "  <tbody>\n",
       "    <tr>\n",
       "      <th>0</th>\n",
       "      <td>4/19/2025 15:25:23</td>\n",
       "      <td>Customer 1</td>\n",
       "      <td>kirbykt@vcu.edu</td>\n",
       "      <td>Laptop</td>\n",
       "      <td>3</td>\n",
       "      <td>Yes</td>\n",
       "      <td>Loved it!</td>\n",
       "    </tr>\n",
       "    <tr>\n",
       "      <th>1</th>\n",
       "      <td>4/19/2025 15:34:10</td>\n",
       "      <td>Customer 2</td>\n",
       "      <td>customer2@gmail.com</td>\n",
       "      <td>TV</td>\n",
       "      <td>4</td>\n",
       "      <td>Yes</td>\n",
       "      <td>Love the size!</td>\n",
       "    </tr>\n",
       "    <tr>\n",
       "      <th>2</th>\n",
       "      <td>4/19/2025 15:34:35</td>\n",
       "      <td>Customer 3</td>\n",
       "      <td>customer3@gmail.com</td>\n",
       "      <td>Smartphone</td>\n",
       "      <td>5</td>\n",
       "      <td>Yes</td>\n",
       "      <td>Wonderful and high tech!</td>\n",
       "    </tr>\n",
       "    <tr>\n",
       "      <th>3</th>\n",
       "      <td>4/19/2025 15:34:59</td>\n",
       "      <td>Customer4</td>\n",
       "      <td>customer4@gmail.com</td>\n",
       "      <td>Smartwatch</td>\n",
       "      <td>1</td>\n",
       "      <td>No</td>\n",
       "      <td>Hated the way this felt on my wrist:(</td>\n",
       "    </tr>\n",
       "    <tr>\n",
       "      <th>4</th>\n",
       "      <td>4/19/2025 15:35:26</td>\n",
       "      <td>Customer5</td>\n",
       "      <td>customer5@gmail.com</td>\n",
       "      <td>Smartphone</td>\n",
       "      <td>1</td>\n",
       "      <td>No</td>\n",
       "      <td>Too expensive!</td>\n",
       "    </tr>\n",
       "  </tbody>\n",
       "</table>\n",
       "</div>"
      ],
      "text/plain": [
       "            Timestamp   Full Name        Email Address Product Purchased  \\\n",
       "0  4/19/2025 15:25:23  Customer 1      kirbykt@vcu.edu            Laptop   \n",
       "1  4/19/2025 15:34:10  Customer 2  customer2@gmail.com                TV   \n",
       "2  4/19/2025 15:34:35  Customer 3  customer3@gmail.com        Smartphone   \n",
       "3  4/19/2025 15:34:59   Customer4  customer4@gmail.com        Smartwatch   \n",
       "4  4/19/2025 15:35:26   Customer5  customer5@gmail.com        Smartphone   \n",
       "\n",
       "   Overall Satisfaction Would you recommend us to a friend?  \\\n",
       "0                     3                                 Yes   \n",
       "1                     4                                 Yes   \n",
       "2                     5                                 Yes   \n",
       "3                     1                                  No   \n",
       "4                     1                                  No   \n",
       "\n",
       "                Any additional comments?  \n",
       "0                              Loved it!  \n",
       "1                         Love the size!  \n",
       "2               Wonderful and high tech!  \n",
       "3  Hated the way this felt on my wrist:(  \n",
       "4                         Too expensive!  "
      ]
     },
     "metadata": {},
     "output_type": "display_data"
    }
   ],
   "source": [
    "#Step 3: Preview both dataframes\n",
    "print(\"Product Survey Sample:\")\n",
    "display(product_df.head())"
   ]
  },
  {
   "cell_type": "code",
   "execution_count": 21,
   "id": "84360a96-eb85-4dba-b5dd-49db88bac668",
   "metadata": {},
   "outputs": [
    {
     "name": "stdout",
     "output_type": "stream",
     "text": [
      "Service Survey Sample:\n"
     ]
    },
    {
     "data": {
      "text/html": [
       "<div>\n",
       "<style scoped>\n",
       "    .dataframe tbody tr th:only-of-type {\n",
       "        vertical-align: middle;\n",
       "    }\n",
       "\n",
       "    .dataframe tbody tr th {\n",
       "        vertical-align: top;\n",
       "    }\n",
       "\n",
       "    .dataframe thead th {\n",
       "        text-align: right;\n",
       "    }\n",
       "</style>\n",
       "<table border=\"1\" class=\"dataframe\">\n",
       "  <thead>\n",
       "    <tr style=\"text-align: right;\">\n",
       "      <th></th>\n",
       "      <th>Timestamp</th>\n",
       "      <th>Full Name</th>\n",
       "      <th>Email Address</th>\n",
       "      <th>Date of Service</th>\n",
       "      <th>Location of Service</th>\n",
       "      <th>Rate your support experience</th>\n",
       "      <th>Was your issue resolved?</th>\n",
       "      <th>Any suggestions to improve?</th>\n",
       "    </tr>\n",
       "  </thead>\n",
       "  <tbody>\n",
       "    <tr>\n",
       "      <th>0</th>\n",
       "      <td>4/19/2025 15:39:44</td>\n",
       "      <td>Customer 1</td>\n",
       "      <td>customer1@gmail.com</td>\n",
       "      <td>4/15/2025</td>\n",
       "      <td>Pittsburgh, PA</td>\n",
       "      <td>4</td>\n",
       "      <td>Yes</td>\n",
       "      <td>Nope, thank you for the help</td>\n",
       "    </tr>\n",
       "    <tr>\n",
       "      <th>1</th>\n",
       "      <td>4/19/2025 15:40:19</td>\n",
       "      <td>Customer 2</td>\n",
       "      <td>customer2@gmail.com</td>\n",
       "      <td>4/24/2025</td>\n",
       "      <td>Charlotte, NC</td>\n",
       "      <td>3</td>\n",
       "      <td>Yes</td>\n",
       "      <td>Better customer service</td>\n",
       "    </tr>\n",
       "    <tr>\n",
       "      <th>2</th>\n",
       "      <td>4/19/2025 15:40:56</td>\n",
       "      <td>Customer 3</td>\n",
       "      <td>customer3@gmail.com</td>\n",
       "      <td>4/1/2025</td>\n",
       "      <td>Midlothian, VA</td>\n",
       "      <td>5</td>\n",
       "      <td>Yes</td>\n",
       "      <td>Resolved issue in no time!</td>\n",
       "    </tr>\n",
       "    <tr>\n",
       "      <th>3</th>\n",
       "      <td>4/19/2025 15:41:31</td>\n",
       "      <td>Customer 4</td>\n",
       "      <td>customer4@gmail.com</td>\n",
       "      <td>4/27/2025</td>\n",
       "      <td>Bowling Green, Ohio</td>\n",
       "      <td>3</td>\n",
       "      <td>Yes</td>\n",
       "      <td>NaN</td>\n",
       "    </tr>\n",
       "    <tr>\n",
       "      <th>4</th>\n",
       "      <td>4/19/2025 15:42:05</td>\n",
       "      <td>Customer 5</td>\n",
       "      <td>customer5@gmail.com</td>\n",
       "      <td>4/2/2025</td>\n",
       "      <td>Boulder, CO</td>\n",
       "      <td>4</td>\n",
       "      <td>Yes</td>\n",
       "      <td>Great price!</td>\n",
       "    </tr>\n",
       "  </tbody>\n",
       "</table>\n",
       "</div>"
      ],
      "text/plain": [
       "            Timestamp   Full Name        Email Address Date of Service  \\\n",
       "0  4/19/2025 15:39:44  Customer 1  customer1@gmail.com       4/15/2025   \n",
       "1  4/19/2025 15:40:19  Customer 2  customer2@gmail.com       4/24/2025   \n",
       "2  4/19/2025 15:40:56  Customer 3  customer3@gmail.com        4/1/2025   \n",
       "3  4/19/2025 15:41:31  Customer 4  customer4@gmail.com       4/27/2025   \n",
       "4  4/19/2025 15:42:05  Customer 5  customer5@gmail.com        4/2/2025   \n",
       "\n",
       "   Location of Service  Rate your support experience Was your issue resolved?  \\\n",
       "0       Pittsburgh, PA                             4                      Yes   \n",
       "1        Charlotte, NC                             3                      Yes   \n",
       "2       Midlothian, VA                             5                      Yes   \n",
       "3  Bowling Green, Ohio                             3                      Yes   \n",
       "4          Boulder, CO                             4                      Yes   \n",
       "\n",
       "    Any suggestions to improve?  \n",
       "0  Nope, thank you for the help  \n",
       "1       Better customer service  \n",
       "2    Resolved issue in no time!  \n",
       "3                           NaN  \n",
       "4                  Great price!  "
      ]
     },
     "metadata": {},
     "output_type": "display_data"
    }
   ],
   "source": [
    "print(\"Service Survey Sample:\")\n",
    "display(service_df.head())"
   ]
  },
  {
   "cell_type": "code",
   "execution_count": 22,
   "id": "31cdedfe-6dcf-4e03-b0e4-b74293988202",
   "metadata": {},
   "outputs": [],
   "source": [
    "#Step 4: Combine the two datasets\n",
    "master_df = pd.concat([product_df, service_df], ignore_index=True)"
   ]
  },
  {
   "cell_type": "code",
   "execution_count": 23,
   "id": "114ea22d-5e78-4e31-91df-c80d177b406f",
   "metadata": {},
   "outputs": [
    {
     "name": "stdout",
     "output_type": "stream",
     "text": [
      "Master dataset created successfully and saved.\n"
     ]
    }
   ],
   "source": [
    "#Step 5: Save the master file\n",
    "master_df.to_csv(\"Master_Combined_Data.csv\", index=False)\n",
    "\n",
    "print(\"Master dataset created successfully and saved.\")"
   ]
  },
  {
   "cell_type": "code",
   "execution_count": 24,
   "id": "e82d85bc-a18a-4f40-b47f-92d3d9a391ad",
   "metadata": {},
   "outputs": [],
   "source": [
    "#Load the master dataset created in Task 2\n",
    "master_df = pd.read_csv(\"Master_Combined_Data.csv\")"
   ]
  },
  {
   "cell_type": "code",
   "execution_count": 25,
   "id": "34685138-b84d-486d-8dbc-6395eb7e7b3d",
   "metadata": {},
   "outputs": [
    {
     "data": {
      "text/html": [
       "<div>\n",
       "<style scoped>\n",
       "    .dataframe tbody tr th:only-of-type {\n",
       "        vertical-align: middle;\n",
       "    }\n",
       "\n",
       "    .dataframe tbody tr th {\n",
       "        vertical-align: top;\n",
       "    }\n",
       "\n",
       "    .dataframe thead th {\n",
       "        text-align: right;\n",
       "    }\n",
       "</style>\n",
       "<table border=\"1\" class=\"dataframe\">\n",
       "  <thead>\n",
       "    <tr style=\"text-align: right;\">\n",
       "      <th></th>\n",
       "      <th>Timestamp</th>\n",
       "      <th>Full Name</th>\n",
       "      <th>Email Address</th>\n",
       "      <th>Product Purchased</th>\n",
       "      <th>Overall Satisfaction</th>\n",
       "      <th>Would you recommend us to a friend?</th>\n",
       "      <th>Any additional comments?</th>\n",
       "      <th>Date of Service</th>\n",
       "      <th>Location of Service</th>\n",
       "      <th>Rate your support experience</th>\n",
       "      <th>Was your issue resolved?</th>\n",
       "      <th>Any suggestions to improve?</th>\n",
       "    </tr>\n",
       "  </thead>\n",
       "  <tbody>\n",
       "    <tr>\n",
       "      <th>0</th>\n",
       "      <td>4/19/2025 15:25:23</td>\n",
       "      <td>Customer 1</td>\n",
       "      <td>kirbykt@vcu.edu</td>\n",
       "      <td>Laptop</td>\n",
       "      <td>3.0</td>\n",
       "      <td>Yes</td>\n",
       "      <td>Loved it!</td>\n",
       "      <td>NaN</td>\n",
       "      <td>NaN</td>\n",
       "      <td>NaN</td>\n",
       "      <td>NaN</td>\n",
       "      <td>NaN</td>\n",
       "    </tr>\n",
       "    <tr>\n",
       "      <th>1</th>\n",
       "      <td>4/19/2025 15:34:10</td>\n",
       "      <td>Customer 2</td>\n",
       "      <td>customer2@gmail.com</td>\n",
       "      <td>TV</td>\n",
       "      <td>4.0</td>\n",
       "      <td>Yes</td>\n",
       "      <td>Love the size!</td>\n",
       "      <td>NaN</td>\n",
       "      <td>NaN</td>\n",
       "      <td>NaN</td>\n",
       "      <td>NaN</td>\n",
       "      <td>NaN</td>\n",
       "    </tr>\n",
       "    <tr>\n",
       "      <th>2</th>\n",
       "      <td>4/19/2025 15:34:35</td>\n",
       "      <td>Customer 3</td>\n",
       "      <td>customer3@gmail.com</td>\n",
       "      <td>Smartphone</td>\n",
       "      <td>5.0</td>\n",
       "      <td>Yes</td>\n",
       "      <td>Wonderful and high tech!</td>\n",
       "      <td>NaN</td>\n",
       "      <td>NaN</td>\n",
       "      <td>NaN</td>\n",
       "      <td>NaN</td>\n",
       "      <td>NaN</td>\n",
       "    </tr>\n",
       "    <tr>\n",
       "      <th>3</th>\n",
       "      <td>4/19/2025 15:34:59</td>\n",
       "      <td>Customer4</td>\n",
       "      <td>customer4@gmail.com</td>\n",
       "      <td>Smartwatch</td>\n",
       "      <td>1.0</td>\n",
       "      <td>No</td>\n",
       "      <td>Hated the way this felt on my wrist:(</td>\n",
       "      <td>NaN</td>\n",
       "      <td>NaN</td>\n",
       "      <td>NaN</td>\n",
       "      <td>NaN</td>\n",
       "      <td>NaN</td>\n",
       "    </tr>\n",
       "    <tr>\n",
       "      <th>4</th>\n",
       "      <td>4/19/2025 15:35:26</td>\n",
       "      <td>Customer5</td>\n",
       "      <td>customer5@gmail.com</td>\n",
       "      <td>Smartphone</td>\n",
       "      <td>1.0</td>\n",
       "      <td>No</td>\n",
       "      <td>Too expensive!</td>\n",
       "      <td>NaN</td>\n",
       "      <td>NaN</td>\n",
       "      <td>NaN</td>\n",
       "      <td>NaN</td>\n",
       "      <td>NaN</td>\n",
       "    </tr>\n",
       "  </tbody>\n",
       "</table>\n",
       "</div>"
      ],
      "text/plain": [
       "            Timestamp   Full Name        Email Address Product Purchased  \\\n",
       "0  4/19/2025 15:25:23  Customer 1      kirbykt@vcu.edu            Laptop   \n",
       "1  4/19/2025 15:34:10  Customer 2  customer2@gmail.com                TV   \n",
       "2  4/19/2025 15:34:35  Customer 3  customer3@gmail.com        Smartphone   \n",
       "3  4/19/2025 15:34:59   Customer4  customer4@gmail.com        Smartwatch   \n",
       "4  4/19/2025 15:35:26   Customer5  customer5@gmail.com        Smartphone   \n",
       "\n",
       "   Overall Satisfaction Would you recommend us to a friend?  \\\n",
       "0                   3.0                                 Yes   \n",
       "1                   4.0                                 Yes   \n",
       "2                   5.0                                 Yes   \n",
       "3                   1.0                                  No   \n",
       "4                   1.0                                  No   \n",
       "\n",
       "                Any additional comments? Date of Service Location of Service  \\\n",
       "0                              Loved it!             NaN                 NaN   \n",
       "1                         Love the size!             NaN                 NaN   \n",
       "2               Wonderful and high tech!             NaN                 NaN   \n",
       "3  Hated the way this felt on my wrist:(             NaN                 NaN   \n",
       "4                         Too expensive!             NaN                 NaN   \n",
       "\n",
       "   Rate your support experience Was your issue resolved?  \\\n",
       "0                           NaN                      NaN   \n",
       "1                           NaN                      NaN   \n",
       "2                           NaN                      NaN   \n",
       "3                           NaN                      NaN   \n",
       "4                           NaN                      NaN   \n",
       "\n",
       "  Any suggestions to improve?  \n",
       "0                         NaN  \n",
       "1                         NaN  \n",
       "2                         NaN  \n",
       "3                         NaN  \n",
       "4                         NaN  "
      ]
     },
     "execution_count": 25,
     "metadata": {},
     "output_type": "execute_result"
    }
   ],
   "source": [
    "#Display first few rows\n",
    "master_df.head()"
   ]
  },
  {
   "cell_type": "code",
   "execution_count": 26,
   "id": "b3a2ac13-cbb2-49fa-9d6a-5625d738b836",
   "metadata": {},
   "outputs": [],
   "source": [
    "# Tagging each original dataset\n",
    "product_df[\"Form Source\"] = \"Product Survey\"\n",
    "service_df[\"Form Source\"] = \"Service Survey\"\n",
    "\n",
    "# Recombine with source info\n",
    "master_df = pd.concat([product_df, service_df], ignore_index=True)"
   ]
  },
  {
   "cell_type": "code",
   "execution_count": 27,
   "id": "9d108b2c-d9ac-4541-a8b2-d767d7734c47",
   "metadata": {},
   "outputs": [],
   "source": [
    "# Clean column names (remove leading/trailing whitespace)\n",
    "master_df.columns = [col.strip() for col in master_df.columns]\n",
    "\n",
    "# Standardize email (trim + lowercase)\n",
    "master_df[\"Email Address\"] = master_df[\"Email Address\"].str.strip().str.lower()"
   ]
  },
  {
   "cell_type": "code",
   "execution_count": 28,
   "id": "9b74cbec-2526-4234-b98a-2faad32ace72",
   "metadata": {},
   "outputs": [
    {
     "name": "stdout",
     "output_type": "stream",
     "text": [
      "Original rows: 20\n",
      "After deduplication: 12\n"
     ]
    }
   ],
   "source": [
    "# Drop exact duplicates by email\n",
    "dedup_df = master_df.drop_duplicates(subset=\"Email Address\")\n",
    "\n",
    "print(f\"Original rows: {len(master_df)}\")\n",
    "print(f\"After deduplication: {len(dedup_df)}\")"
   ]
  },
  {
   "cell_type": "code",
   "execution_count": 29,
   "id": "57471960-e21c-4cdb-9a44-168079ef675a",
   "metadata": {},
   "outputs": [
    {
     "name": "stdout",
     "output_type": "stream",
     "text": [
      "Cleaned dataset saved.\n"
     ]
    }
   ],
   "source": [
    "dedup_df.to_csv(\"Cleaned_Master_Dataset.csv\", index=False)\n",
    "print(\"Cleaned dataset saved.\")"
   ]
  },
  {
   "cell_type": "code",
   "execution_count": 30,
   "id": "bd894c89-598e-47d6-a475-c8dd7124830e",
   "metadata": {},
   "outputs": [
    {
     "data": {
      "image/png": "[encoded data removed]",
      "text/plain": [
       "<Figure size 800x500 with 1 Axes>"
      ]
     },
     "metadata": {},
     "output_type": "display_data"
    }
   ],
   "source": [
    "# Creating Visuals: Filter only Product Survey rows\n",
    "product_data = dedup_df[dedup_df[\"Form Source\"] == \"Product Survey\"]\n",
    "\n",
    "plt.figure(figsize=(8,5))\n",
    "sns.countplot(data=product_data, x=\"Overall Satisfaction\", hue=\"Would you recommend us to a friend?\")\n",
    "plt.title(\"Recommendation Count by Satisfaction Score\")\n",
    "plt.xlabel(\"Overall Satisfaction (1–5)\")\n",
    "plt.ylabel(\"Number of Responses\")\n",
    "plt.legend(title=\"Recommend to a Friend\")\n",
    "plt.tight_layout()\n",
    "plt.show()"
   ]
  },
  {
   "cell_type": "code",
   "execution_count": 31,
   "id": "3766aeb5-4c12-4307-b423-efffdf64d33b",
   "metadata": {},
   "outputs": [
    {
     "data": {
      "image/png": "[encoded data removed]",
      "text/plain": [
       "<Figure size 1000x500 with 1 Axes>"
      ]
     },
     "metadata": {},
     "output_type": "display_data"
    }
   ],
   "source": [
    "# Filter only Service Survey rows\n",
    "service_data = dedup_df[dedup_df[\"Form Source\"] == \"Service Survey\"]\n",
    "\n",
    "# Group by location\n",
    "location_avg = service_data.groupby(\"Location of Service\")[\"Rate your support experience\"].mean().reset_index()\n",
    "\n",
    "plt.figure(figsize=(10,5))\n",
    "sns.barplot(data=location_avg, x=\"Location of Service\", y=\"Rate your support experience\")\n",
    "plt.xticks(rotation=45)\n",
    "plt.title(\"Average Support Rating by Location\")\n",
    "plt.ylabel(\"Avg Support Score (1–5)\")\n",
    "plt.xlabel(\"Location\")\n",
    "plt.tight_layout()\n",
    "plt.show()"
   ]
  },
  {
   "cell_type": "code",
   "execution_count": 32,
   "id": "ebb2948c-86c9-4a1a-8c21-473a6d460c0e",
   "metadata": {},
   "outputs": [
    {
     "data": {
      "image/png": "[encoded data removed]",
      "text/plain": [
       "<Figure size 600x600 with 1 Axes>"
      ]
     },
     "metadata": {},
     "output_type": "display_data"
    }
   ],
   "source": [
    "resolved_counts = service_data[\"Was your issue resolved?\"].value_counts()\n",
    "\n",
    "plt.figure(figsize=(6,6))\n",
    "plt.pie(resolved_counts, labels=resolved_counts.index, autopct='%1.1f%%', startangle=140)\n",
    "plt.title(\"Issue Resolution Status\")\n",
    "plt.axis('equal')\n",
    "plt.show()"
   ]
  },
  {
   "cell_type": "code",
   "execution_count": 33,
   "id": "e1c0d83f-fad4-4b59-96d9-9e9760c3773e",
   "metadata": {},
   "outputs": [
    {
     "data": {
      "image/png": "[encoded data removed]",
      "text/plain": [
       "<Figure size 600x400 with 1 Axes>"
      ]
     },
     "metadata": {},
     "output_type": "display_data"
    }
   ],
   "source": [
    "plt.figure(figsize=(6,4))\n",
    "sns.histplot(data=product_data, x=\"Overall Satisfaction\", bins=5, kde=True)\n",
    "plt.title(\"Customer Satisfaction Distribution\")\n",
    "plt.xlabel(\"Satisfaction Score\")\n",
    "plt.ylabel(\"Frequency\")\n",
    "plt.tight_layout()\n",
    "plt.show()"
   ]
  },
  {
   "cell_type": "code",
   "execution_count": 34,
   "id": "604b4cfe-3241-4ab3-935d-b9c513183eb4",
   "metadata": {},
   "outputs": [],
   "source": [
    "# Company XYZ Dashboard Overview (Week 7)\n",
    "\n",
    "### Product Survey Overview\n",
    "# Most customers gave a score of 4–5\n",
    "# Over 70% would recommend the product\n",
    "\n",
    "### Service Survey Summary\n",
    "# Midlothian, VA had the highest average support rating\n",
    "# 100% of issues reported were resolved"
   ]
  },
  {
   "cell_type": "code",
   "execution_count": 35,
   "id": "44c63ed2-50f8-46dd-88f5-cc41203baa5f",
   "metadata": {},
   "outputs": [
    {
     "data": {
      "text/html": [
       "<div>\n",
       "<style scoped>\n",
       "    .dataframe tbody tr th:only-of-type {\n",
       "        vertical-align: middle;\n",
       "    }\n",
       "\n",
       "    .dataframe tbody tr th {\n",
       "        vertical-align: top;\n",
       "    }\n",
       "\n",
       "    .dataframe thead th {\n",
       "        text-align: right;\n",
       "    }\n",
       "</style>\n",
       "<table border=\"1\" class=\"dataframe\">\n",
       "  <thead>\n",
       "    <tr style=\"text-align: right;\">\n",
       "      <th></th>\n",
       "      <th>Timestamp</th>\n",
       "      <th>Full Name</th>\n",
       "      <th>Email Address</th>\n",
       "      <th>Product Purchased</th>\n",
       "      <th>Overall Satisfaction</th>\n",
       "      <th>Would you recommend us to a friend?</th>\n",
       "      <th>Any additional comments?</th>\n",
       "      <th>Form Source</th>\n",
       "      <th>Date of Service</th>\n",
       "      <th>Location of Service</th>\n",
       "      <th>Rate your support experience</th>\n",
       "      <th>Was your issue resolved?</th>\n",
       "      <th>Any suggestions to improve?</th>\n",
       "    </tr>\n",
       "  </thead>\n",
       "  <tbody>\n",
       "    <tr>\n",
       "      <th>0</th>\n",
       "      <td>4/19/2025 15:25:23</td>\n",
       "      <td>Customer 1</td>\n",
       "      <td>kirbykt@vcu.edu</td>\n",
       "      <td>Laptop</td>\n",
       "      <td>3.0</td>\n",
       "      <td>Yes</td>\n",
       "      <td>Loved it!</td>\n",
       "      <td>Product Survey</td>\n",
       "      <td>Not Applicable</td>\n",
       "      <td>Not Applicable</td>\n",
       "      <td>Not Applicable</td>\n",
       "      <td>Not Applicable</td>\n",
       "      <td>Not Applicable</td>\n",
       "    </tr>\n",
       "    <tr>\n",
       "      <th>1</th>\n",
       "      <td>4/19/2025 15:34:10</td>\n",
       "      <td>Customer 2</td>\n",
       "      <td>customer2@gmail.com</td>\n",
       "      <td>TV</td>\n",
       "      <td>4.0</td>\n",
       "      <td>Yes</td>\n",
       "      <td>Love the size!</td>\n",
       "      <td>Product Survey</td>\n",
       "      <td>Not Applicable</td>\n",
       "      <td>Not Applicable</td>\n",
       "      <td>Not Applicable</td>\n",
       "      <td>Not Applicable</td>\n",
       "      <td>Not Applicable</td>\n",
       "    </tr>\n",
       "    <tr>\n",
       "      <th>2</th>\n",
       "      <td>4/19/2025 15:34:35</td>\n",
       "      <td>Customer 3</td>\n",
       "      <td>customer3@gmail.com</td>\n",
       "      <td>Smartphone</td>\n",
       "      <td>5.0</td>\n",
       "      <td>Yes</td>\n",
       "      <td>Wonderful and high tech!</td>\n",
       "      <td>Product Survey</td>\n",
       "      <td>Not Applicable</td>\n",
       "      <td>Not Applicable</td>\n",
       "      <td>Not Applicable</td>\n",
       "      <td>Not Applicable</td>\n",
       "      <td>Not Applicable</td>\n",
       "    </tr>\n",
       "    <tr>\n",
       "      <th>3</th>\n",
       "      <td>4/19/2025 15:34:59</td>\n",
       "      <td>Customer4</td>\n",
       "      <td>customer4@gmail.com</td>\n",
       "      <td>Smartwatch</td>\n",
       "      <td>1.0</td>\n",
       "      <td>No</td>\n",
       "      <td>Hated the way this felt on my wrist:(</td>\n",
       "      <td>Product Survey</td>\n",
       "      <td>Not Applicable</td>\n",
       "      <td>Not Applicable</td>\n",
       "      <td>Not Applicable</td>\n",
       "      <td>Not Applicable</td>\n",
       "      <td>Not Applicable</td>\n",
       "    </tr>\n",
       "    <tr>\n",
       "      <th>4</th>\n",
       "      <td>4/19/2025 15:35:26</td>\n",
       "      <td>Customer5</td>\n",
       "      <td>customer5@gmail.com</td>\n",
       "      <td>Smartphone</td>\n",
       "      <td>1.0</td>\n",
       "      <td>No</td>\n",
       "      <td>Too expensive!</td>\n",
       "      <td>Product Survey</td>\n",
       "      <td>Not Applicable</td>\n",
       "      <td>Not Applicable</td>\n",
       "      <td>Not Applicable</td>\n",
       "      <td>Not Applicable</td>\n",
       "      <td>Not Applicable</td>\n",
       "    </tr>\n",
       "  </tbody>\n",
       "</table>\n",
       "</div>"
      ],
      "text/plain": [
       "            Timestamp   Full Name        Email Address Product Purchased  \\\n",
       "0  4/19/2025 15:25:23  Customer 1      kirbykt@vcu.edu            Laptop   \n",
       "1  4/19/2025 15:34:10  Customer 2  customer2@gmail.com                TV   \n",
       "2  4/19/2025 15:34:35  Customer 3  customer3@gmail.com        Smartphone   \n",
       "3  4/19/2025 15:34:59   Customer4  customer4@gmail.com        Smartwatch   \n",
       "4  4/19/2025 15:35:26   Customer5  customer5@gmail.com        Smartphone   \n",
       "\n",
       "  Overall Satisfaction Would you recommend us to a friend?  \\\n",
       "0                  3.0                                 Yes   \n",
       "1                  4.0                                 Yes   \n",
       "2                  5.0                                 Yes   \n",
       "3                  1.0                                  No   \n",
       "4                  1.0                                  No   \n",
       "\n",
       "                Any additional comments?     Form Source Date of Service  \\\n",
       "0                              Loved it!  Product Survey  Not Applicable   \n",
       "1                         Love the size!  Product Survey  Not Applicable   \n",
       "2               Wonderful and high tech!  Product Survey  Not Applicable   \n",
       "3  Hated the way this felt on my wrist:(  Product Survey  Not Applicable   \n",
       "4                         Too expensive!  Product Survey  Not Applicable   \n",
       "\n",
       "  Location of Service Rate your support experience Was your issue resolved?  \\\n",
       "0      Not Applicable               Not Applicable           Not Applicable   \n",
       "1      Not Applicable               Not Applicable           Not Applicable   \n",
       "2      Not Applicable               Not Applicable           Not Applicable   \n",
       "3      Not Applicable               Not Applicable           Not Applicable   \n",
       "4      Not Applicable               Not Applicable           Not Applicable   \n",
       "\n",
       "  Any suggestions to improve?  \n",
       "0              Not Applicable  \n",
       "1              Not Applicable  \n",
       "2              Not Applicable  \n",
       "3              Not Applicable  \n",
       "4              Not Applicable  "
      ]
     },
     "execution_count": 35,
     "metadata": {},
     "output_type": "execute_result"
    }
   ],
   "source": [
    "#Fill NaN values with 'Not Applicable'\n",
    "filled_df = dedup_df.fillna(\"Not Applicable\")\n",
    "\n",
    "#Display first few rows\n",
    "filled_df.head()"
   ]
  },
  {
   "cell_type": "code",
   "execution_count": 36,
   "id": "7e52a72a-5a57-47ee-a681-2f9ad5e5d8cd",
   "metadata": {},
   "outputs": [
    {
     "name": "stdout",
     "output_type": "stream",
     "text": [
      "Total number of NA values: 59\n"
     ]
    }
   ],
   "source": [
    "#Total number of NA values across the entire dataset\n",
    "total_na = dedup_df.isna().sum().sum()\n",
    "print(f\"Total number of NA values: {total_na}\")"
   ]
  },
  {
   "cell_type": "code",
   "execution_count": 38,
   "id": "20298dac-5320-4232-aeb7-4f408c7d7b1f",
   "metadata": {},
   "outputs": [
    {
     "name": "stdout",
     "output_type": "stream",
     "text": [
      "Timestamp                              0\n",
      "Full Name                              0\n",
      "Email Address                          0\n",
      "Product Purchased                      3\n",
      "Overall Satisfaction                   3\n",
      "Would you recommend us to a friend?    3\n",
      "Any additional comments?               5\n",
      "Form Source                            0\n",
      "Date of Service                        9\n",
      "Location of Service                    9\n",
      "Rate your support experience           9\n",
      "Was your issue resolved?               9\n",
      "Any suggestions to improve?            9\n",
      "dtype: int64\n"
     ]
    }
   ],
   "source": [
    "#Number of NA values per column\n",
    "na_per_column = dedup_df.isna().sum()\n",
    "print(na_per_column)"
   ]
  },
  {
   "cell_type": "code",
   "execution_count": 39,
   "id": "70a271b4-7208-40e6-8e32-ab9d72202272",
   "metadata": {},
   "outputs": [
    {
     "data": {
      "text/html": [
       "<div>\n",
       "<style scoped>\n",
       "    .dataframe tbody tr th:only-of-type {\n",
       "        vertical-align: middle;\n",
       "    }\n",
       "\n",
       "    .dataframe tbody tr th {\n",
       "        vertical-align: top;\n",
       "    }\n",
       "\n",
       "    .dataframe thead th {\n",
       "        text-align: right;\n",
       "    }\n",
       "</style>\n",
       "<table border=\"1\" class=\"dataframe\">\n",
       "  <thead>\n",
       "    <tr style=\"text-align: right;\">\n",
       "      <th></th>\n",
       "      <th>Column Name</th>\n",
       "      <th>Missing Values</th>\n",
       "    </tr>\n",
       "  </thead>\n",
       "  <tbody>\n",
       "    <tr>\n",
       "      <th>3</th>\n",
       "      <td>Product Purchased</td>\n",
       "      <td>3</td>\n",
       "    </tr>\n",
       "    <tr>\n",
       "      <th>4</th>\n",
       "      <td>Overall Satisfaction</td>\n",
       "      <td>3</td>\n",
       "    </tr>\n",
       "    <tr>\n",
       "      <th>5</th>\n",
       "      <td>Would you recommend us to a friend?</td>\n",
       "      <td>3</td>\n",
       "    </tr>\n",
       "    <tr>\n",
       "      <th>6</th>\n",
       "      <td>Any additional comments?</td>\n",
       "      <td>5</td>\n",
       "    </tr>\n",
       "    <tr>\n",
       "      <th>8</th>\n",
       "      <td>Date of Service</td>\n",
       "      <td>9</td>\n",
       "    </tr>\n",
       "    <tr>\n",
       "      <th>9</th>\n",
       "      <td>Location of Service</td>\n",
       "      <td>9</td>\n",
       "    </tr>\n",
       "    <tr>\n",
       "      <th>10</th>\n",
       "      <td>Rate your support experience</td>\n",
       "      <td>9</td>\n",
       "    </tr>\n",
       "    <tr>\n",
       "      <th>11</th>\n",
       "      <td>Was your issue resolved?</td>\n",
       "      <td>9</td>\n",
       "    </tr>\n",
       "    <tr>\n",
       "      <th>12</th>\n",
       "      <td>Any suggestions to improve?</td>\n",
       "      <td>9</td>\n",
       "    </tr>\n",
       "  </tbody>\n",
       "</table>\n",
       "</div>"
      ],
      "text/plain": [
       "                            Column Name  Missing Values\n",
       "3                     Product Purchased               3\n",
       "4                  Overall Satisfaction               3\n",
       "5   Would you recommend us to a friend?               3\n",
       "6              Any additional comments?               5\n",
       "8                       Date of Service               9\n",
       "9                   Location of Service               9\n",
       "10         Rate your support experience               9\n",
       "11             Was your issue resolved?               9\n",
       "12          Any suggestions to improve?               9"
      ]
     },
     "metadata": {},
     "output_type": "display_data"
    }
   ],
   "source": [
    "# Create a DataFrame showing missing value counts\n",
    "na_summary = pd.DataFrame({\n",
    "    \"Column Name\": dedup_df.columns,\n",
    "    \"Missing Values\": dedup_df.isna().sum().values\n",
    "})\n",
    "\n",
    "# Filter to only columns with missing data (optional)\n",
    "na_summary = na_summary[na_summary[\"Missing Values\"] > 0]\n",
    "\n",
    "display(na_summary)"
   ]
  },
  {
   "cell_type": "code",
   "execution_count": 40,
   "id": "762603f5-d8f6-420a-8dee-dd493571a618",
   "metadata": {},
   "outputs": [
    {
     "data": {
      "image/png": "[encoded data removed]",
      "text/plain": [
       "<Figure size 600x400 with 1 Axes>"
      ]
     },
     "metadata": {},
     "output_type": "display_data"
    },
    {
     "data": {
      "image/png": "[encoded data removed]",
      "text/plain": [
       "<Figure size 600x400 with 1 Axes>"
      ]
     },
     "metadata": {},
     "output_type": "display_data"
    }
   ],
   "source": [
    "# For Overall Satisfaction (Product Survey)\n",
    "plt.figure(figsize=(6,4))\n",
    "sns.boxplot(data=dedup_df, x=\"Overall Satisfaction\")\n",
    "plt.title(\"Boxplot - Overall Satisfaction\")\n",
    "plt.show()\n",
    "\n",
    "# For Support Rating (Service Survey)\n",
    "plt.figure(figsize=(6,4))\n",
    "sns.boxplot(data=dedup_df, x=\"Rate your support experience\")\n",
    "plt.title(\"Boxplot - Support Experience Rating\")\n",
    "plt.show()\n"
   ]
  },
  {
   "cell_type": "code",
   "execution_count": null,
   "id": "0c131be2-0734-4bb4-9cc8-5d42783c1767",
   "metadata": {},
   "outputs": [],
   "source": []
  }
 ],
 "metadata": {
  "kernelspec": {
   "display_name": "Python 3 (ipykernel)",
   "language": "python",
   "name": "python3"
  },
  "language_info": {
   "codemirror_mode": {
    "name": "ipython",
    "version": 3
   },
   "file_extension": ".py",
   "mimetype": "text/x-python",
   "name": "python",
   "nbconvert_exporter": "python",
   "pygments_lexer": "ipython3",
   "version": "3.13.3"
  }
 },
 "nbformat": 4,
 "nbformat_minor": 5
}
